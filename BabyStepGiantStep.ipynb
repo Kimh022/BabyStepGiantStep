{
  "nbformat": 4,
  "nbformat_minor": 0,
  "metadata": {
    "colab": {
      "provenance": []
    },
    "kernelspec": {
      "name": "python3",
      "display_name": "Python 3"
    },
    "language_info": {
      "name": "python"
    }
  },
  "cells": [
    {
      "cell_type": "code",
      "execution_count": null,
      "metadata": {
        "id": "C7XONiHQmXSW"
      },
      "outputs": [],
      "source": [
        "import math\n",
        "\n",
        "def BSGS(g,e,p):\n",
        "  m = math.floor(math.sqrt(p))\n",
        "  baby = [0] * (m+1)\n",
        "  giant = [0] * (m+1)\n",
        "  giant[0] = e\n",
        "  baby[0] = 1\n",
        "  indbaby = 0\n",
        "  indgiant = 0\n",
        "  valbaby = 0\n",
        "  valgiant = 0\n",
        "\n",
        "  for x in range(len(baby)-1):\n",
        "    baby[x+1] = g*baby[x] % p\n",
        "    giant[x+1] = e*(g**((p-1)-(x+1)*m))%p\n",
        "\n",
        "  for x in range(len(baby)):\n",
        "    for y in range(len(giant)):\n",
        "      if (baby[x] == giant[y]):\n",
        "        valbaby = baby[x]\n",
        "        valgiant = baby[y]\n",
        "        indbaby = x\n",
        "        indgiant = y\n",
        "        return valbaby,valgiant,indbaby,indgiant,m\n",
        "\n",
        "\n",
        "\n"
      ]
    },
    {
      "cell_type": "code",
      "source": [
        "193* pow(5,502-22,503)%503\n",
        "193 * pow(5,502 - 22*22,503) % 503"
      ],
      "metadata": {
        "id": "x5F9H2sonQiS",
        "colab": {
          "base_uri": "https://localhost:8080/"
        },
        "outputId": "a02c5c8c-dbcf-4ca8-b10b-93f6146ddab3"
      },
      "execution_count": null,
      "outputs": [
        {
          "output_type": "execute_result",
          "data": {
            "text/plain": [
              "5"
            ]
          },
          "metadata": {},
          "execution_count": 65
        }
      ]
    },
    {
      "cell_type": "code",
      "source": [
        "22*22"
      ],
      "metadata": {
        "colab": {
          "base_uri": "https://localhost:8080/"
        },
        "id": "RK3gddXavHgE",
        "outputId": "94372ef7-9b16-4e3e-c2db-f6d1c5139412"
      },
      "execution_count": null,
      "outputs": [
        {
          "output_type": "execute_result",
          "data": {
            "text/plain": [
              "484"
            ]
          },
          "metadata": {},
          "execution_count": 63
        }
      ]
    },
    {
      "cell_type": "code",
      "source": [
        "pow(5,442 + 2,503)"
      ],
      "metadata": {
        "colab": {
          "base_uri": "https://localhost:8080/"
        },
        "id": "7eT0-bfJw_Nw",
        "outputId": "7850499d-fabd-445a-9b41-22644a2dec33"
      },
      "execution_count": null,
      "outputs": [
        {
          "output_type": "execute_result",
          "data": {
            "text/plain": [
              "42"
            ]
          },
          "metadata": {},
          "execution_count": 58
        }
      ]
    },
    {
      "cell_type": "code",
      "source": [
        "pow(5, 485, 503)"
      ],
      "metadata": {
        "colab": {
          "base_uri": "https://localhost:8080/"
        },
        "id": "OfNNx6QZxFha",
        "outputId": "b02e931a-ad3d-4fa0-9293-565c51015d63"
      },
      "execution_count": null,
      "outputs": [
        {
          "output_type": "execute_result",
          "data": {
            "text/plain": [
              "193"
            ]
          },
          "metadata": {},
          "execution_count": 67
        }
      ]
    },
    {
      "cell_type": "code",
      "source": [
        "print(BSGS(3,40,89))"
      ],
      "metadata": {
        "colab": {
          "base_uri": "https://localhost:8080/"
        },
        "id": "nngc_qSny7rA",
        "outputId": "bea21f2a-731f-4406-b073-affc3545b654"
      },
      "execution_count": null,
      "outputs": [
        {
          "output_type": "stream",
          "name": "stdout",
          "text": [
            "3   3\n",
            "[40, 41, 22, 27, 21, 46, 16, 52, 80, 82, 4.444444444444445]\n",
            "[1, 3, 9, 27, 81, 65, 17, 51, 64, 14]\n"
          ]
        }
      ]
    },
    {
      "cell_type": "code",
      "source": [
        "40* pow(3,88-9,89)%89"
      ],
      "metadata": {
        "colab": {
          "base_uri": "https://localhost:8080/"
        },
        "id": "uea7GbUvzx2t",
        "outputId": "5ec23d53-b1d5-40a0-fc05-fb7b62348e20"
      },
      "execution_count": null,
      "outputs": [
        {
          "output_type": "execute_result",
          "data": {
            "text/plain": [
              "41"
            ]
          },
          "metadata": {},
          "execution_count": 76
        }
      ]
    },
    {
      "cell_type": "code",
      "source": [
        "pow(3,30,89)"
      ],
      "metadata": {
        "colab": {
          "base_uri": "https://localhost:8080/"
        },
        "id": "gDD_3WZn0M1_",
        "outputId": "f641da8b-8fe2-4ce9-d8df-1b6abdf408d2"
      },
      "execution_count": null,
      "outputs": [
        {
          "output_type": "execute_result",
          "data": {
            "text/plain": [
              "40"
            ]
          },
          "metadata": {},
          "execution_count": 77
        }
      ]
    },
    {
      "cell_type": "code",
      "source": [
        "print(BSGS(5,4,137))"
      ],
      "metadata": {
        "colab": {
          "base_uri": "https://localhost:8080/"
        },
        "id": "P4nknZ9o1xy2",
        "outputId": "db43d5cb-1b59-4160-9dde-c1c8be9710ed"
      },
      "execution_count": null,
      "outputs": [
        {
          "output_type": "stream",
          "name": "stdout",
          "text": [
            "1   9\n",
            "[4, 6, 9, 82, 123, 116, 37, 124, 49, 5, 76, 114, 34]\n",
            "[1, 5, 25, 125, 77, 111, 7, 35, 38, 53, 128, 92]\n"
          ]
        }
      ]
    },
    {
      "cell_type": "code",
      "source": [
        "pow(5,136-11,137)*4%137"
      ],
      "metadata": {
        "colab": {
          "base_uri": "https://localhost:8080/"
        },
        "id": "AdWlYJW315d0",
        "outputId": "60188e8e-c61f-42c5-845b-88f261960afe"
      },
      "execution_count": null,
      "outputs": [
        {
          "output_type": "execute_result",
          "data": {
            "text/plain": [
              "6"
            ]
          },
          "metadata": {},
          "execution_count": 80
        }
      ]
    },
    {
      "cell_type": "code",
      "source": [
        "pow(5,100,137)"
      ],
      "metadata": {
        "colab": {
          "base_uri": "https://localhost:8080/"
        },
        "id": "L9ZQTpvj2W-g",
        "outputId": "cb35bc1b-5cfb-4341-d6ef-309bb0456690"
      },
      "execution_count": null,
      "outputs": [
        {
          "output_type": "execute_result",
          "data": {
            "text/plain": [
              "4"
            ]
          },
          "metadata": {},
          "execution_count": 81
        }
      ]
    },
    {
      "cell_type": "code",
      "source": [
        "print(BSGS(5,49,137))"
      ],
      "metadata": {
        "colab": {
          "base_uri": "https://localhost:8080/"
        },
        "id": "YjAUoIkB24OG",
        "outputId": "e6290c67-2e1b-4a06-eeae-02a91cd31f20"
      },
      "execution_count": null,
      "outputs": [
        {
          "output_type": "stream",
          "name": "stdout",
          "text": [
            "1   1\n",
            "11\n",
            "[49, 5, 76, 114, 34, 51, 8, 12, 18, 27, 109, 95, 74]\n",
            "[1, 5, 25, 125, 77, 111, 7, 35, 38, 53, 128, 92]\n"
          ]
        }
      ]
    },
    {
      "cell_type": "code",
      "source": [
        "pow(5,12,137)"
      ],
      "metadata": {
        "colab": {
          "base_uri": "https://localhost:8080/"
        },
        "id": "HyqM9VEo3J4b",
        "outputId": "8eb4be6f-317e-46d4-b115-02a207d0998b"
      },
      "execution_count": null,
      "outputs": [
        {
          "output_type": "execute_result",
          "data": {
            "text/plain": [
              "49"
            ]
          },
          "metadata": {},
          "execution_count": 84
        }
      ]
    },
    {
      "cell_type": "code",
      "source": [
        "print(BSGS(2,6,227))"
      ],
      "metadata": {
        "colab": {
          "base_uri": "https://localhost:8080/"
        },
        "id": "UQrsD3MK3uyE",
        "outputId": "81eb9af8-7ff9-4dda-b2b0-88ad1669e360"
      },
      "execution_count": null,
      "outputs": [
        {
          "output_type": "stream",
          "name": "stdout",
          "text": [
            "2   3\n",
            "15\n",
            "[6, 176, 93, 4, 193, 62, 154, 53, 117, 27, 111, 78, 18, 74, 52, 12, 0.0003662109375]\n",
            "[1, 2, 4, 8, 16, 32, 64, 128, 29, 58, 116, 5, 10, 20, 40, 80]\n"
          ]
        }
      ]
    },
    {
      "cell_type": "code",
      "source": [
        "pow(2,47,227)"
      ],
      "metadata": {
        "colab": {
          "base_uri": "https://localhost:8080/"
        },
        "id": "J4es3DME38L3",
        "outputId": "92114ebb-a4be-4052-dae1-2631bea0a5e5"
      },
      "execution_count": null,
      "outputs": [
        {
          "output_type": "execute_result",
          "data": {
            "text/plain": [
              "6"
            ]
          },
          "metadata": {},
          "execution_count": 88
        }
      ]
    },
    {
      "cell_type": "code",
      "source": [
        "print(BSGS(10,11,181))"
      ],
      "metadata": {
        "colab": {
          "base_uri": "https://localhost:8080/"
        },
        "id": "Log6c-Wh4hzl",
        "outputId": "beebfcd3-4115-4fa5-ff6a-e71ab3369e4a"
      },
      "execution_count": null,
      "outputs": [
        {
          "output_type": "stream",
          "name": "stdout",
          "text": [
            "3   11\n",
            "13\n",
            "[11, 2, 132, 24, 136, 107, 3, 17, 36, 23, 70, 95, 116, 54, 0.11]\n",
            "[1, 10, 100, 95, 45, 88, 156, 112, 34, 159, 142, 153, 82, 96]\n"
          ]
        }
      ]
    },
    {
      "cell_type": "code",
      "source": [
        "pow(10,12,181)"
      ],
      "metadata": {
        "colab": {
          "base_uri": "https://localhost:8080/"
        },
        "id": "hjmAaYpP4qTP",
        "outputId": "b485e2ad-5455-4d91-e726-0c9d2e29c170"
      },
      "execution_count": null,
      "outputs": [
        {
          "output_type": "execute_result",
          "data": {
            "text/plain": [
              "82"
            ]
          },
          "metadata": {},
          "execution_count": 90
        }
      ]
    },
    {
      "cell_type": "code",
      "source": [
        "13*11"
      ],
      "metadata": {
        "colab": {
          "base_uri": "https://localhost:8080/"
        },
        "id": "ncwzxxBk44jR",
        "outputId": "c8c011cf-f922-4fd1-8325-68f1cd81db1c"
      },
      "execution_count": null,
      "outputs": [
        {
          "output_type": "execute_result",
          "data": {
            "text/plain": [
              "143"
            ]
          },
          "metadata": {},
          "execution_count": 92
        }
      ]
    },
    {
      "cell_type": "code",
      "source": [
        "pow(10,146,181)"
      ],
      "metadata": {
        "colab": {
          "base_uri": "https://localhost:8080/"
        },
        "id": "QSm9wNwR5kJD",
        "outputId": "8b307a80-f37a-46c5-ceb0-aac3a45e105e"
      },
      "execution_count": null,
      "outputs": [
        {
          "output_type": "execute_result",
          "data": {
            "text/plain": [
              "11"
            ]
          },
          "metadata": {},
          "execution_count": 93
        }
      ]
    },
    {
      "cell_type": "code",
      "source": [
        "BSGS(17,2108,8641)"
      ],
      "metadata": {
        "id": "ezTrtUCM5pRm",
        "colab": {
          "base_uri": "https://localhost:8080/"
        },
        "outputId": "bcf6a526-c607-436b-b8f2-b6a08b1e6057"
      },
      "execution_count": null,
      "outputs": [
        {
          "output_type": "stream",
          "name": "stdout",
          "text": [
            "38   31\n"
          ]
        },
        {
          "output_type": "execute_result",
          "data": {
            "text/plain": [
              "(138, 3278, 38, 31, 92)"
            ]
          },
          "metadata": {},
          "execution_count": 7
        }
      ]
    },
    {
      "cell_type": "code",
      "source": [],
      "metadata": {
        "id": "v4y0WuPXmd3f"
      },
      "execution_count": null,
      "outputs": []
    }
  ]
}